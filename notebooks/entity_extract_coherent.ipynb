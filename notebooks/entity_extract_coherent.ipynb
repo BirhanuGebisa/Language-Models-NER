{
 "cells": [
  {
   "cell_type": "markdown",
   "metadata": {},
   "source": [
    "#### IMPORT MODULES"
   ]
  },
  {
   "cell_type": "code",
   "execution_count": 51,
   "metadata": {},
   "outputs": [],
   "source": [
    "import cohere\n",
    "import pandas as pd\n",
    "import requests\n",
    "import datetime\n",
    "import os,sys\n",
    "sys.path.append('../scr')\n",
    "import config\n",
    "from tqdm import tqdm\n",
    "from cProfile import label\n",
    "from File_handler import FileHandler\n",
    "file_data=FileHandler()\n",
    "api_key = config.cohere_api[\"api_key\"]"
   ]
  },
  {
   "cell_type": "code",
   "execution_count": 52,
   "metadata": {},
   "outputs": [],
   "source": [
    "# Paste your API key here. Remember to not share publicly\n",
    "#api from config\n",
    "\n",
    "# Create and retrieve a Cohere API key from os.cohere.ai\n",
    "co = cohere.Client(api_key)"
   ]
  },
  {
   "cell_type": "code",
   "execution_count": 53,
   "metadata": {},
   "outputs": [],
   "source": [
    "#data = file_data.dvc_get_data('../data/relations_dev.json', 'v3')\n",
    "import json\n",
    "#train data\n",
    "with open(\"../data/relations_dev.json\",'r') as read_file:\n",
    "  train_df = pd.read_json(read_file.read())\n",
    "#test data\n",
    "test_df = pd.read_json('../data/relations_test.json')  "
   ]
  },
  {
   "cell_type": "code",
   "execution_count": 87,
   "metadata": {},
   "outputs": [
    {
     "name": "stdout",
     "output_type": "stream",
     "text": [
      "<class 'pandas.core.frame.DataFrame'>\n",
      "RangeIndex: 22 entries, 0 to 21\n",
      "Data columns (total 4 columns):\n",
      " #   Column     Non-Null Count  Dtype \n",
      "---  ------     --------------  ----- \n",
      " 0   document   22 non-null     object\n",
      " 1   tokens     22 non-null     object\n",
      " 2   relations  22 non-null     object\n",
      " 3   label      22 non-null     object\n",
      "dtypes: object(4)\n",
      "memory usage: 832.0+ bytes\n"
     ]
    }
   ],
   "source": [
    "train_df.info()"
   ]
  },
  {
   "cell_type": "code",
   "execution_count": 54,
   "metadata": {},
   "outputs": [
    {
     "name": "stdout",
     "output_type": "stream",
     "text": [
      "<class 'pandas.core.frame.DataFrame'>\n",
      "RangeIndex: 11 entries, 0 to 10\n",
      "Data columns (total 3 columns):\n",
      " #   Column     Non-Null Count  Dtype \n",
      "---  ------     --------------  ----- \n",
      " 0   document   11 non-null     object\n",
      " 1   tokens     11 non-null     object\n",
      " 2   relations  11 non-null     object\n",
      "dtypes: object(3)\n",
      "memory usage: 392.0+ bytes\n"
     ]
    }
   ],
   "source": [
    "test_df.info()"
   ]
  },
  {
   "cell_type": "code",
   "execution_count": 55,
   "metadata": {},
   "outputs": [],
   "source": [
    "def pre_process_tokens(tokens):\n",
    "    enti={}\n",
    "    for t in tokens:\n",
    "        \n",
    "        if t['entityLabel'] in enti.keys():\n",
    "            enti[t['entityLabel']] = enti[t['entityLabel']] +','+t['text']\n",
    "        else:\n",
    "            enti[t['entityLabel']] = t['text']\n",
    "    label = \"\"\n",
    "    for k, v in enti.items():\n",
    "        label += k+':'+v+\"\\n\"\n",
    "    return label"
   ]
  },
  {
   "cell_type": "code",
   "execution_count": 56,
   "metadata": {},
   "outputs": [
    {
     "data": {
      "text/html": [
       "<div>\n",
       "<style scoped>\n",
       "    .dataframe tbody tr th:only-of-type {\n",
       "        vertical-align: middle;\n",
       "    }\n",
       "\n",
       "    .dataframe tbody tr th {\n",
       "        vertical-align: top;\n",
       "    }\n",
       "\n",
       "    .dataframe thead th {\n",
       "        text-align: right;\n",
       "    }\n",
       "</style>\n",
       "<table border=\"1\" class=\"dataframe\">\n",
       "  <thead>\n",
       "    <tr style=\"text-align: right;\">\n",
       "      <th></th>\n",
       "      <th>document</th>\n",
       "      <th>tokens</th>\n",
       "      <th>relations</th>\n",
       "      <th>label</th>\n",
       "    </tr>\n",
       "  </thead>\n",
       "  <tbody>\n",
       "    <tr>\n",
       "      <th>0</th>\n",
       "      <td>Bachelor's degree in Mechanical Engineering or...</td>\n",
       "      <td>[{'text': 'Bachelor', 'start': 0, 'end': 8, 't...</td>\n",
       "      <td>[{'child': 4, 'head': 0, 'relationLabel': 'DEG...</td>\n",
       "      <td>DIPLOMA:Bachelor\\nDIPLOMA_MAJOR:Mechanical Eng...</td>\n",
       "    </tr>\n",
       "    <tr>\n",
       "      <th>1</th>\n",
       "      <td>10+ years of software engineering work experie...</td>\n",
       "      <td>[{'text': '10+ years', 'start': 0, 'end': 9, '...</td>\n",
       "      <td>[{'child': 4, 'head': 0, 'relationLabel': 'EXP...</td>\n",
       "      <td>EXPERIENCE:10+ years,5+ years\\nSKILLS:software...</td>\n",
       "    </tr>\n",
       "    <tr>\n",
       "      <th>2</th>\n",
       "      <td>3+ years Swift &amp; Objective-C and experience wi...</td>\n",
       "      <td>[{'text': '3+ years', 'start': 0, 'end': 8, 't...</td>\n",
       "      <td>[{'child': 3, 'head': 0, 'relationLabel': 'EXP...</td>\n",
       "      <td>EXPERIENCE:3+ years\\nSKILLS:Swift &amp; Objective-C\\n</td>\n",
       "    </tr>\n",
       "    <tr>\n",
       "      <th>3</th>\n",
       "      <td>8+ years experience in software engineering le...</td>\n",
       "      <td>[{'text': '8+ years', 'start': 0, 'end': 8, 't...</td>\n",
       "      <td>[{'child': 5, 'head': 0, 'relationLabel': 'EXP...</td>\n",
       "      <td>EXPERIENCE:8+ years,5+ years\\nSKILLS:software ...</td>\n",
       "    </tr>\n",
       "    <tr>\n",
       "      <th>4</th>\n",
       "      <td>BS degree in Computer Science or related field...</td>\n",
       "      <td>[{'text': 'BS', 'start': 0, 'end': 2, 'token_s...</td>\n",
       "      <td>[{'child': 3, 'head': 0, 'relationLabel': 'DEG...</td>\n",
       "      <td>DIPLOMA:BS\\nDIPLOMA_MAJOR:Computer Science\\nEX...</td>\n",
       "    </tr>\n",
       "    <tr>\n",
       "      <th>5</th>\n",
       "      <td>8+ years of development experience with Python...</td>\n",
       "      <td>[{'text': '8+ years', 'start': 0, 'end': 8, 't...</td>\n",
       "      <td>[{'child': 4, 'head': 0, 'relationLabel': 'EXP...</td>\n",
       "      <td>EXPERIENCE:8+ years\\nSKILLS:development,Python...</td>\n",
       "    </tr>\n",
       "    <tr>\n",
       "      <th>6</th>\n",
       "      <td>Strong problem solving and analytical skills i...</td>\n",
       "      <td>[{'text': '2+ years', 'start': 773, 'end': 781...</td>\n",
       "      <td>[{'child': 129, 'head': 125, 'relationLabel': ...</td>\n",
       "      <td>EXPERIENCE:2+ years\\nSKILLS:performance modeli...</td>\n",
       "    </tr>\n",
       "    <tr>\n",
       "      <th>7</th>\n",
       "      <td>Experience in backend services, systems, and d...</td>\n",
       "      <td>[{'text': 'BS/MS', 'start': 66, 'end': 71, 'to...</td>\n",
       "      <td>[{'child': 15, 'head': 11, 'relationLabel': 'D...</td>\n",
       "      <td>DIPLOMA:BS/MS\\nDIPLOMA_MAJOR:Computer Science\\...</td>\n",
       "    </tr>\n",
       "    <tr>\n",
       "      <th>8</th>\n",
       "      <td>experience: 5 + years of full-stack software d...</td>\n",
       "      <td>[{'text': '5 + years', 'start': 12, 'end': 21,...</td>\n",
       "      <td>[{'child': 6, 'head': 2, 'relationLabel': 'EXP...</td>\n",
       "      <td>EXPERIENCE:5 + years,5+ years,5 + years,3+ yea...</td>\n",
       "    </tr>\n",
       "    <tr>\n",
       "      <th>9</th>\n",
       "      <td>BS in Electrical Engineering or Computer Engin...</td>\n",
       "      <td>[{'text': 'BS', 'start': 0, 'end': 2, 'token_s...</td>\n",
       "      <td>[{'child': 2, 'head': 0, 'relationLabel': 'DEG...</td>\n",
       "      <td>DIPLOMA:BS,MS\\nDIPLOMA_MAJOR:Electrical Engine...</td>\n",
       "    </tr>\n",
       "    <tr>\n",
       "      <th>10</th>\n",
       "      <td>Basic : Programming experience in C#, Java, or...</td>\n",
       "      <td>[{'text': 'BS', 'start': 51, 'end': 53, 'token...</td>\n",
       "      <td>[{'child': 14, 'head': 12, 'relationLabel': 'D...</td>\n",
       "      <td>DIPLOMA:BS\\nDIPLOMA_MAJOR:Computer Science,Com...</td>\n",
       "    </tr>\n",
       "    <tr>\n",
       "      <th>11</th>\n",
       "      <td>Bachelor's Degree in Computing Science or a re...</td>\n",
       "      <td>[{'text': 'Bachelor', 'start': 0, 'end': 8, 't...</td>\n",
       "      <td>[{'child': 4, 'head': 0, 'relationLabel': 'DEG...</td>\n",
       "      <td>DIPLOMA:Bachelor\\nDIPLOMA_MAJOR:Computing Scie...</td>\n",
       "    </tr>\n",
       "    <tr>\n",
       "      <th>12</th>\n",
       "      <td>1+ years development experience on Java stack ...</td>\n",
       "      <td>[{'text': '1+ years', 'start': 0, 'end': 8, 't...</td>\n",
       "      <td>[{'child': 3, 'head': 0, 'relationLabel': 'EXP...</td>\n",
       "      <td>EXPERIENCE:1+ years\\nSKILLS:development,Java s...</td>\n",
       "    </tr>\n",
       "    <tr>\n",
       "      <th>13</th>\n",
       "      <td>\\n5+ years of software engineering work experi...</td>\n",
       "      <td>[{'text': '5+ years', 'start': 1, 'end': 9, 't...</td>\n",
       "      <td>[{'child': 5, 'head': 1, 'relationLabel': 'EXP...</td>\n",
       "      <td>EXPERIENCE:5+ years,5+ years,4+ years\\nDIPLOMA...</td>\n",
       "    </tr>\n",
       "    <tr>\n",
       "      <th>14</th>\n",
       "      <td>Experience being technical, hands-on and a peo...</td>\n",
       "      <td>[{'text': '8+ years', 'start': 425, 'end': 433...</td>\n",
       "      <td>[{'child': 73, 'head': 66, 'relationLabel': 'E...</td>\n",
       "      <td>EXPERIENCE:8+ years,3+ years\\nSKILLS:software ...</td>\n",
       "    </tr>\n",
       "    <tr>\n",
       "      <th>15</th>\n",
       "      <td>Experience with Golang (Go Programming Languag...</td>\n",
       "      <td>[]</td>\n",
       "      <td>[]</td>\n",
       "      <td></td>\n",
       "    </tr>\n",
       "    <tr>\n",
       "      <th>16</th>\n",
       "      <td>Experience with C/C++ and Python. Experience w...</td>\n",
       "      <td>[]</td>\n",
       "      <td>[]</td>\n",
       "      <td></td>\n",
       "    </tr>\n",
       "    <tr>\n",
       "      <th>17</th>\n",
       "      <td>Basic : A BS/MS in Computer Science or related...</td>\n",
       "      <td>[{'text': 'BS/MS', 'start': 10, 'end': 15, 'to...</td>\n",
       "      <td>[{'child': 7, 'head': 3, 'relationLabel': 'DEG...</td>\n",
       "      <td>DIPLOMA:BS/MS\\nDIPLOMA_MAJOR:Computer Science\\...</td>\n",
       "    </tr>\n",
       "    <tr>\n",
       "      <th>18</th>\n",
       "      <td>Skills &amp; : Exceptional management skills, with...</td>\n",
       "      <td>[{'text': 'BA/BS degree', 'start': 447, 'end':...</td>\n",
       "      <td>[{'child': 82, 'head': 77, 'relationLabel': 'D...</td>\n",
       "      <td>DIPLOMA:BA/BS degree\\nDIPLOMA_MAJOR:CS\\nEXPERI...</td>\n",
       "    </tr>\n",
       "    <tr>\n",
       "      <th>19</th>\n",
       "      <td>include: Bachelor of Mechanical Engineering or...</td>\n",
       "      <td>[{'text': 'Bachelor', 'start': 9, 'end': 17, '...</td>\n",
       "      <td>[{'child': 4, 'head': 2, 'relationLabel': 'DEG...</td>\n",
       "      <td>DIPLOMA:Bachelor\\nDIPLOMA_MAJOR:Mechanical Eng...</td>\n",
       "    </tr>\n",
       "    <tr>\n",
       "      <th>20</th>\n",
       "      <td>A successful member of our team will have: 5 +...</td>\n",
       "      <td>[{'text': '5 + years', 'start': 43, 'end': 52,...</td>\n",
       "      <td>[{'child': 13, 'head': 9, 'relationLabel': 'EX...</td>\n",
       "      <td>EXPERIENCE:5 + years\\nSKILLS:industry,developi...</td>\n",
       "    </tr>\n",
       "    <tr>\n",
       "      <th>21</th>\n",
       "      <td>BA/BS degree 7+ years experience in brand and/...</td>\n",
       "      <td>[{'text': '7+ years', 'start': 13, 'end': 21, ...</td>\n",
       "      <td>[{'child': 9, 'head': 4, 'relationLabel': 'EXP...</td>\n",
       "      <td>EXPERIENCE:7+ years\\nSKILLS:brand,product mark...</td>\n",
       "    </tr>\n",
       "  </tbody>\n",
       "</table>\n",
       "</div>"
      ],
      "text/plain": [
       "                                             document  \\\n",
       "0   Bachelor's degree in Mechanical Engineering or...   \n",
       "1   10+ years of software engineering work experie...   \n",
       "2   3+ years Swift & Objective-C and experience wi...   \n",
       "3   8+ years experience in software engineering le...   \n",
       "4   BS degree in Computer Science or related field...   \n",
       "5   8+ years of development experience with Python...   \n",
       "6   Strong problem solving and analytical skills i...   \n",
       "7   Experience in backend services, systems, and d...   \n",
       "8   experience: 5 + years of full-stack software d...   \n",
       "9   BS in Electrical Engineering or Computer Engin...   \n",
       "10  Basic : Programming experience in C#, Java, or...   \n",
       "11  Bachelor's Degree in Computing Science or a re...   \n",
       "12  1+ years development experience on Java stack ...   \n",
       "13  \\n5+ years of software engineering work experi...   \n",
       "14  Experience being technical, hands-on and a peo...   \n",
       "15  Experience with Golang (Go Programming Languag...   \n",
       "16  Experience with C/C++ and Python. Experience w...   \n",
       "17  Basic : A BS/MS in Computer Science or related...   \n",
       "18  Skills & : Exceptional management skills, with...   \n",
       "19  include: Bachelor of Mechanical Engineering or...   \n",
       "20  A successful member of our team will have: 5 +...   \n",
       "21  BA/BS degree 7+ years experience in brand and/...   \n",
       "\n",
       "                                               tokens  \\\n",
       "0   [{'text': 'Bachelor', 'start': 0, 'end': 8, 't...   \n",
       "1   [{'text': '10+ years', 'start': 0, 'end': 9, '...   \n",
       "2   [{'text': '3+ years', 'start': 0, 'end': 8, 't...   \n",
       "3   [{'text': '8+ years', 'start': 0, 'end': 8, 't...   \n",
       "4   [{'text': 'BS', 'start': 0, 'end': 2, 'token_s...   \n",
       "5   [{'text': '8+ years', 'start': 0, 'end': 8, 't...   \n",
       "6   [{'text': '2+ years', 'start': 773, 'end': 781...   \n",
       "7   [{'text': 'BS/MS', 'start': 66, 'end': 71, 'to...   \n",
       "8   [{'text': '5 + years', 'start': 12, 'end': 21,...   \n",
       "9   [{'text': 'BS', 'start': 0, 'end': 2, 'token_s...   \n",
       "10  [{'text': 'BS', 'start': 51, 'end': 53, 'token...   \n",
       "11  [{'text': 'Bachelor', 'start': 0, 'end': 8, 't...   \n",
       "12  [{'text': '1+ years', 'start': 0, 'end': 8, 't...   \n",
       "13  [{'text': '5+ years', 'start': 1, 'end': 9, 't...   \n",
       "14  [{'text': '8+ years', 'start': 425, 'end': 433...   \n",
       "15                                                 []   \n",
       "16                                                 []   \n",
       "17  [{'text': 'BS/MS', 'start': 10, 'end': 15, 'to...   \n",
       "18  [{'text': 'BA/BS degree', 'start': 447, 'end':...   \n",
       "19  [{'text': 'Bachelor', 'start': 9, 'end': 17, '...   \n",
       "20  [{'text': '5 + years', 'start': 43, 'end': 52,...   \n",
       "21  [{'text': '7+ years', 'start': 13, 'end': 21, ...   \n",
       "\n",
       "                                            relations  \\\n",
       "0   [{'child': 4, 'head': 0, 'relationLabel': 'DEG...   \n",
       "1   [{'child': 4, 'head': 0, 'relationLabel': 'EXP...   \n",
       "2   [{'child': 3, 'head': 0, 'relationLabel': 'EXP...   \n",
       "3   [{'child': 5, 'head': 0, 'relationLabel': 'EXP...   \n",
       "4   [{'child': 3, 'head': 0, 'relationLabel': 'DEG...   \n",
       "5   [{'child': 4, 'head': 0, 'relationLabel': 'EXP...   \n",
       "6   [{'child': 129, 'head': 125, 'relationLabel': ...   \n",
       "7   [{'child': 15, 'head': 11, 'relationLabel': 'D...   \n",
       "8   [{'child': 6, 'head': 2, 'relationLabel': 'EXP...   \n",
       "9   [{'child': 2, 'head': 0, 'relationLabel': 'DEG...   \n",
       "10  [{'child': 14, 'head': 12, 'relationLabel': 'D...   \n",
       "11  [{'child': 4, 'head': 0, 'relationLabel': 'DEG...   \n",
       "12  [{'child': 3, 'head': 0, 'relationLabel': 'EXP...   \n",
       "13  [{'child': 5, 'head': 1, 'relationLabel': 'EXP...   \n",
       "14  [{'child': 73, 'head': 66, 'relationLabel': 'E...   \n",
       "15                                                 []   \n",
       "16                                                 []   \n",
       "17  [{'child': 7, 'head': 3, 'relationLabel': 'DEG...   \n",
       "18  [{'child': 82, 'head': 77, 'relationLabel': 'D...   \n",
       "19  [{'child': 4, 'head': 2, 'relationLabel': 'DEG...   \n",
       "20  [{'child': 13, 'head': 9, 'relationLabel': 'EX...   \n",
       "21  [{'child': 9, 'head': 4, 'relationLabel': 'EXP...   \n",
       "\n",
       "                                                label  \n",
       "0   DIPLOMA:Bachelor\\nDIPLOMA_MAJOR:Mechanical Eng...  \n",
       "1   EXPERIENCE:10+ years,5+ years\\nSKILLS:software...  \n",
       "2   EXPERIENCE:3+ years\\nSKILLS:Swift & Objective-C\\n  \n",
       "3   EXPERIENCE:8+ years,5+ years\\nSKILLS:software ...  \n",
       "4   DIPLOMA:BS\\nDIPLOMA_MAJOR:Computer Science\\nEX...  \n",
       "5   EXPERIENCE:8+ years\\nSKILLS:development,Python...  \n",
       "6   EXPERIENCE:2+ years\\nSKILLS:performance modeli...  \n",
       "7   DIPLOMA:BS/MS\\nDIPLOMA_MAJOR:Computer Science\\...  \n",
       "8   EXPERIENCE:5 + years,5+ years,5 + years,3+ yea...  \n",
       "9   DIPLOMA:BS,MS\\nDIPLOMA_MAJOR:Electrical Engine...  \n",
       "10  DIPLOMA:BS\\nDIPLOMA_MAJOR:Computer Science,Com...  \n",
       "11  DIPLOMA:Bachelor\\nDIPLOMA_MAJOR:Computing Scie...  \n",
       "12  EXPERIENCE:1+ years\\nSKILLS:development,Java s...  \n",
       "13  EXPERIENCE:5+ years,5+ years,4+ years\\nDIPLOMA...  \n",
       "14  EXPERIENCE:8+ years,3+ years\\nSKILLS:software ...  \n",
       "15                                                     \n",
       "16                                                     \n",
       "17  DIPLOMA:BS/MS\\nDIPLOMA_MAJOR:Computer Science\\...  \n",
       "18  DIPLOMA:BA/BS degree\\nDIPLOMA_MAJOR:CS\\nEXPERI...  \n",
       "19  DIPLOMA:Bachelor\\nDIPLOMA_MAJOR:Mechanical Eng...  \n",
       "20  EXPERIENCE:5 + years\\nSKILLS:industry,developi...  \n",
       "21  EXPERIENCE:7+ years\\nSKILLS:brand,product mark...  "
      ]
     },
     "execution_count": 56,
     "metadata": {},
     "output_type": "execute_result"
    }
   ],
   "source": [
    "#apply processing \n",
    "train_df['label'] = train_df['tokens'].apply(pre_process_tokens)\n",
    "train_df"
   ]
  },
  {
   "cell_type": "code",
   "execution_count": 57,
   "metadata": {},
   "outputs": [
    {
     "data": {
      "text/html": [
       "<div>\n",
       "<style scoped>\n",
       "    .dataframe tbody tr th:only-of-type {\n",
       "        vertical-align: middle;\n",
       "    }\n",
       "\n",
       "    .dataframe tbody tr th {\n",
       "        vertical-align: top;\n",
       "    }\n",
       "\n",
       "    .dataframe thead th {\n",
       "        text-align: right;\n",
       "    }\n",
       "</style>\n",
       "<table border=\"1\" class=\"dataframe\">\n",
       "  <thead>\n",
       "    <tr style=\"text-align: right;\">\n",
       "      <th></th>\n",
       "      <th>document</th>\n",
       "      <th>tokens</th>\n",
       "      <th>relations</th>\n",
       "      <th>label</th>\n",
       "    </tr>\n",
       "  </thead>\n",
       "  <tbody>\n",
       "    <tr>\n",
       "      <th>0</th>\n",
       "      <td>\\nCurrently holding a faculty, industry, or go...</td>\n",
       "      <td>[{'text': 'Ph.D.', 'start': 75, 'end': 80, 'to...</td>\n",
       "      <td>[{'child': 18, 'head': 14, 'relationLabel': 'D...</td>\n",
       "      <td>DIPLOMA:Ph.D.\\nDIPLOMA_MAJOR:machine learning,...</td>\n",
       "    </tr>\n",
       "    <tr>\n",
       "      <th>1</th>\n",
       "      <td>\\n2+ years experience in the online advertisin...</td>\n",
       "      <td>[{'text': '2+ years', 'start': 1, 'end': 9, 't...</td>\n",
       "      <td>[{'child': 7, 'head': 1, 'relationLabel': 'EXP...</td>\n",
       "      <td>EXPERIENCE:2+ years\\nSKILLS:online advertising...</td>\n",
       "    </tr>\n",
       "    <tr>\n",
       "      <th>2</th>\n",
       "      <td>\\nBA/BS\\n5+ years of program or project manage...</td>\n",
       "      <td>[{'text': '5+ years', 'start': 7, 'end': 15, '...</td>\n",
       "      <td>[{'child': 11, 'head': 5, 'relationLabel': 'EX...</td>\n",
       "      <td>EXPERIENCE:5+ years,2+ years\\nSKILLS:project m...</td>\n",
       "    </tr>\n",
       "    <tr>\n",
       "      <th>3</th>\n",
       "      <td>\\nCurrently enrolled in a full-time degree pro...</td>\n",
       "      <td>[{'text': 'Ph.D.', 'start': 801, 'end': 806, '...</td>\n",
       "      <td>[{'child': 140, 'head': 137, 'relationLabel': ...</td>\n",
       "      <td>DIPLOMA:Ph.D.\\nDIPLOMA_MAJOR:Computer Science\\n</td>\n",
       "    </tr>\n",
       "    <tr>\n",
       "      <th>4</th>\n",
       "      <td>\\nCurrently enrolled in a full-time degree pro...</td>\n",
       "      <td>[{'text': 'Ph.D.', 'start': 801, 'end': 806, '...</td>\n",
       "      <td>[{'child': 140, 'head': 137, 'relationLabel': ...</td>\n",
       "      <td>DIPLOMA:Ph.D.\\nDIPLOMA_MAJOR:Computer Science\\n</td>\n",
       "    </tr>\n",
       "    <tr>\n",
       "      <th>5</th>\n",
       "      <td>\\nMS in a quantitative field such as Operation...</td>\n",
       "      <td>[{'text': 'MS', 'start': 1, 'end': 3, 'token_s...</td>\n",
       "      <td>[{'child': 8, 'head': 1, 'relationLabel': 'DEG...</td>\n",
       "      <td>DIPLOMA:MS,PhD\\nDIPLOMA_MAJOR:Operations Resea...</td>\n",
       "    </tr>\n",
       "    <tr>\n",
       "      <th>6</th>\n",
       "      <td>\\nPh.D. with 5+ years of experience, MS with 7...</td>\n",
       "      <td>[]</td>\n",
       "      <td>[]</td>\n",
       "      <td></td>\n",
       "    </tr>\n",
       "    <tr>\n",
       "      <th>7</th>\n",
       "      <td>\\nGraduating with a Ph.D. in Computer Science ...</td>\n",
       "      <td>[{'text': 'Ph.D.', 'start': 19, 'end': 24, 'to...</td>\n",
       "      <td>[{'child': 6, 'head': 4, 'relationLabel': 'DEG...</td>\n",
       "      <td>DIPLOMA:Ph.D.\\nDIPLOMA_MAJOR:Computer Science\\n</td>\n",
       "    </tr>\n",
       "    <tr>\n",
       "      <th>8</th>\n",
       "      <td>\\n12+ years of research experience, in-house o...</td>\n",
       "      <td>[{'text': '12+ years', 'start': 1, 'end': 10, ...</td>\n",
       "      <td>[{'child': 5, 'head': 1, 'relationLabel': 'EXP...</td>\n",
       "      <td>EXPERIENCE:12+ years\\nSKILLS:research,Ph.D\\nDI...</td>\n",
       "    </tr>\n",
       "    <tr>\n",
       "      <th>9</th>\n",
       "      <td>\\nPhD with 3+ years, or MS with 5+ years of ex...</td>\n",
       "      <td>[{'text': '5+ years', 'start': 31, 'end': 39, ...</td>\n",
       "      <td>[{'child': 18, 'head': 10, 'relationLabel': 'E...</td>\n",
       "      <td>EXPERIENCE:5+ years,3+ years,3+ years,5+ years...</td>\n",
       "    </tr>\n",
       "    <tr>\n",
       "      <th>10</th>\n",
       "      <td>\\nCurrently holding a faculty, industry, or go...</td>\n",
       "      <td>[{'text': 'Ph.D.', 'start': 75, 'end': 80, 'to...</td>\n",
       "      <td>[{'child': 18, 'head': 14, 'relationLabel': 'D...</td>\n",
       "      <td>DIPLOMA:Ph.D.\\nDIPLOMA_MAJOR:machine learning,...</td>\n",
       "    </tr>\n",
       "  </tbody>\n",
       "</table>\n",
       "</div>"
      ],
      "text/plain": [
       "                                             document  \\\n",
       "0   \\nCurrently holding a faculty, industry, or go...   \n",
       "1   \\n2+ years experience in the online advertisin...   \n",
       "2   \\nBA/BS\\n5+ years of program or project manage...   \n",
       "3   \\nCurrently enrolled in a full-time degree pro...   \n",
       "4   \\nCurrently enrolled in a full-time degree pro...   \n",
       "5   \\nMS in a quantitative field such as Operation...   \n",
       "6   \\nPh.D. with 5+ years of experience, MS with 7...   \n",
       "7   \\nGraduating with a Ph.D. in Computer Science ...   \n",
       "8   \\n12+ years of research experience, in-house o...   \n",
       "9   \\nPhD with 3+ years, or MS with 5+ years of ex...   \n",
       "10  \\nCurrently holding a faculty, industry, or go...   \n",
       "\n",
       "                                               tokens  \\\n",
       "0   [{'text': 'Ph.D.', 'start': 75, 'end': 80, 'to...   \n",
       "1   [{'text': '2+ years', 'start': 1, 'end': 9, 't...   \n",
       "2   [{'text': '5+ years', 'start': 7, 'end': 15, '...   \n",
       "3   [{'text': 'Ph.D.', 'start': 801, 'end': 806, '...   \n",
       "4   [{'text': 'Ph.D.', 'start': 801, 'end': 806, '...   \n",
       "5   [{'text': 'MS', 'start': 1, 'end': 3, 'token_s...   \n",
       "6                                                  []   \n",
       "7   [{'text': 'Ph.D.', 'start': 19, 'end': 24, 'to...   \n",
       "8   [{'text': '12+ years', 'start': 1, 'end': 10, ...   \n",
       "9   [{'text': '5+ years', 'start': 31, 'end': 39, ...   \n",
       "10  [{'text': 'Ph.D.', 'start': 75, 'end': 80, 'to...   \n",
       "\n",
       "                                            relations  \\\n",
       "0   [{'child': 18, 'head': 14, 'relationLabel': 'D...   \n",
       "1   [{'child': 7, 'head': 1, 'relationLabel': 'EXP...   \n",
       "2   [{'child': 11, 'head': 5, 'relationLabel': 'EX...   \n",
       "3   [{'child': 140, 'head': 137, 'relationLabel': ...   \n",
       "4   [{'child': 140, 'head': 137, 'relationLabel': ...   \n",
       "5   [{'child': 8, 'head': 1, 'relationLabel': 'DEG...   \n",
       "6                                                  []   \n",
       "7   [{'child': 6, 'head': 4, 'relationLabel': 'DEG...   \n",
       "8   [{'child': 5, 'head': 1, 'relationLabel': 'EXP...   \n",
       "9   [{'child': 18, 'head': 10, 'relationLabel': 'E...   \n",
       "10  [{'child': 18, 'head': 14, 'relationLabel': 'D...   \n",
       "\n",
       "                                                label  \n",
       "0   DIPLOMA:Ph.D.\\nDIPLOMA_MAJOR:machine learning,...  \n",
       "1   EXPERIENCE:2+ years\\nSKILLS:online advertising...  \n",
       "2   EXPERIENCE:5+ years,2+ years\\nSKILLS:project m...  \n",
       "3     DIPLOMA:Ph.D.\\nDIPLOMA_MAJOR:Computer Science\\n  \n",
       "4     DIPLOMA:Ph.D.\\nDIPLOMA_MAJOR:Computer Science\\n  \n",
       "5   DIPLOMA:MS,PhD\\nDIPLOMA_MAJOR:Operations Resea...  \n",
       "6                                                      \n",
       "7     DIPLOMA:Ph.D.\\nDIPLOMA_MAJOR:Computer Science\\n  \n",
       "8   EXPERIENCE:12+ years\\nSKILLS:research,Ph.D\\nDI...  \n",
       "9   EXPERIENCE:5+ years,3+ years,3+ years,5+ years...  \n",
       "10  DIPLOMA:Ph.D.\\nDIPLOMA_MAJOR:machine learning,...  "
      ]
     },
     "execution_count": 57,
     "metadata": {},
     "output_type": "execute_result"
    }
   ],
   "source": [
    "test_df['label'] = test_df['tokens'].apply(pre_process_tokens)\n",
    "test_df"
   ]
  },
  {
   "cell_type": "code",
   "execution_count": 58,
   "metadata": {},
   "outputs": [
    {
     "name": "stdout",
     "output_type": "stream",
     "text": [
      "Successful\n"
     ]
    }
   ],
   "source": [
    "#extract entity from the train dataset\n",
    "train_word = []\n",
    "for i in range(train_df.shape[0]):\n",
    "    entity = train_df.label.iloc[i]\n",
    "    file_doc = train_df.document.iloc[i].replace(\"\\n\",\" \")\n",
    "    if len(entity)!=0:\n",
    "        train_word.append(file_doc+\"\\n\\nExtracted Text:\" +\n",
    "                        '\\n'+entity+\"----\\n\")\n",
    "#store the entity on the file\n",
    "with open('../data/extract_entity.txt','w') as f:\n",
    "    for item in train_word:\n",
    "        # write each item on a new line\n",
    "        f.write(\"%s\\n\" % item.strip())\n",
    "    print('Successful')"
   ]
  },
  {
   "cell_type": "code",
   "execution_count": 59,
   "metadata": {},
   "outputs": [],
   "source": [
    "test_doc = test_df.document.apply(\n",
    "    lambda x: x.replace(\"\\n\", \" \")+'\\n\\nExtracted Text:').to_list()"
   ]
  },
  {
   "cell_type": "code",
   "execution_count": 60,
   "metadata": {},
   "outputs": [],
   "source": [
    "from pipeline import Pipeline\n",
    "pipeline =Pipeline()"
   ]
  },
  {
   "cell_type": "code",
   "execution_count": 61,
   "metadata": {},
   "outputs": [],
   "source": [
    "#The first thing is to extract all the data from our json\n",
    "class cohereExtractor():\n",
    "    def __init__(self, examples):\n",
    "        self.examples = examples\n",
    "\n",
    "    def make_prompt(self, example):\n",
    "        prompt = self.examples + [example]\n",
    "       \n",
    "        return (\"\".join([str(exam) for exam in prompt]))\n",
    "\n",
    "    def extract(self, example):\n",
    "        extraction = co.generate(\n",
    "            model='large',\n",
    "            prompt=self.make_prompt(example),\n",
    "            max_tokens=100,\n",
    "            temperature=0.5,\n",
    "            stop_sequences=[\"----\"])\n",
    "        \n",
    "        return(extraction.generations[0].text[:-1])\n",
    "\n",
    "\n",
    "cohereMovieExtractor = cohereExtractor(train_doc[:6])"
   ]
  },
  {
   "cell_type": "code",
   "execution_count": 62,
   "metadata": {},
   "outputs": [
    {
     "name": "stdout",
     "output_type": "stream",
     "text": [
      "Bachelor's degree in Mechanical Engineering or Physical Science 3+ years track record of developing or specifying fiber optic cables and connector related products Knowledge of fiber optic component, cabling, and interconnect products, technologies, and standards Experience in statistical data analysis Experience with product life cycle management (PLM) process Experience providing solutions to problems and meeting deadlines Experience engaging stakeholders PREFERRED Advanced degree Experience using a software tool for statistical data analysis such as JMP Experience using Agile as product life-cycle management tool Data center or other mission critical development experience\n",
      "\n",
      "Extracted Text:\n",
      "DIPLOMA:Bachelor\n",
      "DIPLOMA_MAJOR:Mechanical Engineering,Physical Science\n",
      "EXPERIENCE:3+ years\n",
      "SKILLS:developing,fiber optic cables,connector related products\n",
      "----\n",
      "10+ years of software engineering work experience. Technical experience in release automation engineering, CI/CD or related roles. Experience building and leading a software organization through product design, delivery and commercialization of consumer electronics devices. Experience recruiting and managing technical teams, including performance management. BS/MS in Computer Science. Experience in leading timeline, multi-partner initiatives. Organizational communication and coordination experience. PREFERRED 5+ years of experience with hands-on technical management, release engineering, tools engineering, DevOps, or related area.\n",
      "\n",
      "Extracted Text:\n",
      "EXPERIENCE:10+ years,5+ years\n",
      "SKILLS:software engineering,technical management,release engineering,tools engineering,DevOps\n",
      "DIPLOMA:BS/MS\n",
      "DIPLOMA_MAJOR:Computer Science\n",
      "----\n",
      "3+ years Swift & Objective-C and experience with iOS internals Experience building an entire app from scratch and ideally a portfolio of apps featured in the App Store Someone who knows every trick in the book on UI transitions, network communication and memory/battery efficiency Strong UI/design skill experience is a plus\n",
      "\n",
      "Extracted Text:\n",
      "EXPERIENCE:3+ years\n",
      "SKILLS:Swift & Objective-C\n",
      "----\n",
      "8+ years experience in software engineering leadership 5+ years people management experience including managing leaders and managing remotely across regions Strategic thinker with proven track record of transforming operations to provide customer experience through innovation and improvement Track record of working with VP, C-level Executives Experience deploying operational support models across enterprise organizations Communication/presentations experience Experience working with all levels of management internally and externally Experience meeting objectives in an entrepreneurial environment Collaboration and relationship-building experience BA/BS degree or higher\n",
      "\n",
      "Extracted Text:\n",
      "EXPERIENCE:8+ years,5+ years\n",
      "SKILLS:software engineering,people management,managing leaders\n",
      "----\n",
      "BS degree in Computer Science or related field. 7+ years C++ experience, including C++11 features and principles. 5+ years experience creating software for real-time environments such as games or robotics. 2+ years experience managing software engineers. Proven track record of software development, including shipping one or more products on large code bases that span platforms and tools. Problem solving and optimization experience. Communication experience and demonstrated experience working across disciplines and teams to drive solutions. PREFERRED Hands-on experience with 3D computer vision algorithms including Calibration, SLAM, Reconstruction, Mapping, Localization, Sensor Fusion, State Estimation and Image Processing Experience with designing (products or open-source/git software) of inertial/optical sensing devices Publication in leading workshops or conferences such as CVPR, ECCV, ICCV, SIGGRAPH, ICCP, RSS, ICRA, etc.\n",
      "\n",
      "Extracted Text:\n",
      "DIPLOMA:BS\n",
      "DIPLOMA_MAJOR:Computer Science\n",
      "EXPERIENCE:7+ years,5+ years,2+ years\n",
      "SKILLS:C++,C++11,creating software for real-time environments,games,robotics,managing software engineers\n",
      "----\n",
      "8+ years of development experience with Python and Go or C++ Experience with SDN (e.g. OpenFlow, VPP, Open vSwitch) A proven track record of performing on a winning team with a demonstration of bringing products and services to market. A proven track record of system software development. A proven track record of developing software for extremely large scale, distributed environments. A deep understanding of complex system integration and methodologies for proving the correct operation under nominal and faulted conditions of a hyperscale cloud environment. A deep understanding of developing for high availability and its inherent problems. A deep understanding of containers and container clusters such as kubernetes. A deep understanding of virtual machine environment including VMware, KVM, or Xen. Understanding of Open Systems Interconnection Reference Model (OSI-RM), the TCP/IP stack, and development experience in L2, L3, L4. Preferred Tech and Prof Experience Familiarity with networking protocols which might include: BGP, DHCP, DNS, OSPF, IGMP, IPv4/IPv6, IS-IS, and others. Familiarity with Network function virtualization (NFV) functionality and network encapsulation including L4 Load Balancers, Firewalls, etc. Working knowledge of git and CICD tools such as Jenkins and Zuul. EO Statement IBM is committed to creating a diverse environment and is proud to be an equal opportunity employer. All qualified applicants will receive consideration for employment without regard to race, color, religion, gender, gender identity or expression, sexual orientation, national origin, genetics, disability, age, or veteran status. IBM is also committed to compliance with all fair employment practices regarding citizenship and immigration status. .\n",
      "\n",
      "Extracted Text:\n",
      "EXPERIENCE:8+ years\n",
      "SKILLS:development,Python,C++\n",
      "----\n",
      " BA/BS 5+ years of program or project management experience 2+ years of technical project/program management experience Track record of operating independently Experience understanding user needs, gathering requirements, and defining scope Communication experience interacting with a variety of audiences from engineers, to vendors, to research leaders Track record of building cross-functional relationships  PREFERRED  Experience working with UX Research and/or UX Design\n",
      "\n",
      "Extracted Text:\n"
     ]
    }
   ],
   "source": [
    "\n",
    "print(cohereMovieExtractor.make_prompt(test_doc[2]))"
   ]
  },
  {
   "cell_type": "code",
   "execution_count": 63,
   "metadata": {},
   "outputs": [
    {
     "name": "stderr",
     "output_type": "stream",
     "text": [
      "  0%|          | 0/11 [00:00<?, ?it/s]"
     ]
    },
    {
     "name": "stdout",
     "output_type": "stream",
     "text": [
      "\n",
      "DIPLOMA:Ph.D.\n",
      "DIPLOMA_MAJOR:Computer Science\n",
      "EXPERIENCE:1+ year(s),0+ year(s),0+ year(s)\n",
      "SKILLS:machine learning,AI,computer science,statistics,applied mathematics,data science,research,publication\n",
      "---\n"
     ]
    },
    {
     "name": "stderr",
     "output_type": "stream",
     "text": [
      "  9%|▉         | 1/11 [00:03<00:37,  3.78s/it]"
     ]
    },
    {
     "name": "stdout",
     "output_type": "stream",
     "text": [
      "\n",
      "EXPERIENCE:2+ years\n",
      "SKILLS:online advertising,research,economic,statistics,political science,history,psychology\n",
      "---\n"
     ]
    },
    {
     "name": "stderr",
     "output_type": "stream",
     "text": [
      " 18%|█▊        | 2/11 [00:07<00:32,  3.62s/it]"
     ]
    },
    {
     "name": "stdout",
     "output_type": "stream",
     "text": [
      "\n",
      "EXPERIENCE:5+ years,2+ years\n",
      "SKILLS:program or project management,technical project/program management\n",
      "---\n"
     ]
    },
    {
     "name": "stderr",
     "output_type": "stream",
     "text": [
      " 27%|██▋       | 3/11 [00:12<00:34,  4.32s/it]"
     ]
    },
    {
     "name": "stdout",
     "output_type": "stream",
     "text": [
      "\n",
      "EXPERIENCE:3+ years\n",
      "SKILLS:research,machine learning,AI,computer vision,natural language processing,computational neuroscience,optimization,computer science,statistics,applied mathematics,data science\n",
      "---\n"
     ]
    },
    {
     "name": "stderr",
     "output_type": "stream",
     "text": [
      " 36%|███▋      | 4/11 [00:16<00:29,  4.20s/it]"
     ]
    },
    {
     "name": "stdout",
     "output_type": "stream",
     "text": [
      "\n",
      "DIPLOMA:Pursuing\n",
      "DIPLOMA_MAJOR:Computer Science\n",
      "EXPERIENCE:0+ years,Pursuing\n",
      "SKILLS:machine learning,AI,computer vision,natural language processing,computational neuroscience,optimization,computer science,statistics,applied mathematics,data science\n",
      "---\n"
     ]
    },
    {
     "name": "stderr",
     "output_type": "stream",
     "text": [
      " 45%|████▌     | 5/11 [00:20<00:24,  4.04s/it]"
     ]
    },
    {
     "name": "stdout",
     "output_type": "stream",
     "text": [
      "\n",
      "EXPERIENCE:7+ years,5+ years\n",
      "SKILLS:MS in a quantitative field,Statistics,Probability,Hypothesis testing,Regression,Stochastic modeling,Markov Chains,CPLEX,data modeling,SQL,object-oriented programming languages,visualization tools\n",
      "---\n"
     ]
    },
    {
     "name": "stderr",
     "output_type": "stream",
     "text": [
      " 55%|█████▍    | 6/11 [00:23<00:19,  3.87s/it]"
     ]
    },
    {
     "name": "stdout",
     "output_type": "stream",
     "text": [
      "\n",
      "EXPERIENCE:5+ years,7+ years,10+ years\n",
      "SKILLS:Physics,Electrical Engineering,Computer Science,Architecting,developing,launching hardware/software projects,services\n",
      "---\n"
     ]
    },
    {
     "name": "stderr",
     "output_type": "stream",
     "text": [
      " 64%|██████▎   | 7/11 [00:27<00:15,  3.82s/it]"
     ]
    },
    {
     "name": "stdout",
     "output_type": "stream",
     "text": [
      "\n",
      "DIPLOMA:Ph.D.\n",
      "DIPLOMA_MAJOR:Computer Science\n",
      "EXPERIENCE:0-3 years,5+ years\n",
      "SKILLS:completing research,research assistantship,knowledge in a programming language\n",
      "---\n"
     ]
    },
    {
     "name": "stderr",
     "output_type": "stream",
     "text": [
      " 73%|███████▎  | 8/11 [00:31<00:11,  3.75s/it]"
     ]
    },
    {
     "name": "stdout",
     "output_type": "stream",
     "text": [
      "\n",
      "EXPERIENCE:12+ years\n",
      "SKILLS:research,human-computer interaction,human factors,cognitive psychology,shipped products\n",
      "---\n"
     ]
    },
    {
     "name": "stderr",
     "output_type": "stream",
     "text": [
      " 82%|████████▏ | 9/11 [00:34<00:07,  3.73s/it]"
     ]
    },
    {
     "name": "stdout",
     "output_type": "stream",
     "text": [
      "\n",
      "DIPLOMA:PhD\n",
      "DIPLOMA_MAJOR:Psychology\n",
      "EXPERIENCE:3+ years\n",
      "SKILLS:people research,organizations\n",
      "---\n"
     ]
    },
    {
     "name": "stderr",
     "output_type": "stream",
     "text": [
      " 91%|█████████ | 10/11 [00:38<00:03,  3.70s/it]"
     ]
    },
    {
     "name": "stdout",
     "output_type": "stream",
     "text": [
      "\n",
      "EXPERIENCE:1+ year\n",
      "SKILLS:research,AI,machine learning,computer science,statistics,applied mathematics,data science,research\n",
      "---\n"
     ]
    },
    {
     "name": "stderr",
     "output_type": "stream",
     "text": [
      "100%|██████████| 11/11 [00:42<00:00,  3.85s/it]\n"
     ]
    }
   ],
   "source": [
    "results = []\n",
    "for text in tqdm(test_doc):\n",
    "    try:\n",
    "        extracted_text = cohereMovieExtractor.extract(text)\n",
    "        print(extracted_text)\n",
    "        results.append(extracted_text)\n",
    "    except Exception as e:\n",
    "        print('ERROR: ', e)"
   ]
  },
  {
   "cell_type": "code",
   "execution_count": 64,
   "metadata": {},
   "outputs": [
    {
     "data": {
      "text/html": [
       "<div>\n",
       "<style scoped>\n",
       "    .dataframe tbody tr th:only-of-type {\n",
       "        vertical-align: middle;\n",
       "    }\n",
       "\n",
       "    .dataframe tbody tr th {\n",
       "        vertical-align: top;\n",
       "    }\n",
       "\n",
       "    .dataframe thead th {\n",
       "        text-align: right;\n",
       "    }\n",
       "</style>\n",
       "<table border=\"1\" class=\"dataframe\">\n",
       "  <thead>\n",
       "    <tr style=\"text-align: right;\">\n",
       "      <th></th>\n",
       "      <th>text</th>\n",
       "      <th>extracted_text</th>\n",
       "    </tr>\n",
       "  </thead>\n",
       "  <tbody>\n",
       "    <tr>\n",
       "      <th>0</th>\n",
       "      <td>Currently holding a faculty, industry, or gov...</td>\n",
       "      <td>\\nDIPLOMA:Ph.D.\\nDIPLOMA_MAJOR:Computer Scienc...</td>\n",
       "    </tr>\n",
       "    <tr>\n",
       "      <th>1</th>\n",
       "      <td>2+ years experience in the online advertising...</td>\n",
       "      <td>\\nEXPERIENCE:2+ years\\nSKILLS:online advertisi...</td>\n",
       "    </tr>\n",
       "    <tr>\n",
       "      <th>2</th>\n",
       "      <td>BA/BS 5+ years of program or project manageme...</td>\n",
       "      <td>\\nEXPERIENCE:5+ years,2+ years\\nSKILLS:program...</td>\n",
       "    </tr>\n",
       "    <tr>\n",
       "      <th>3</th>\n",
       "      <td>Currently enrolled in a full-time degree prog...</td>\n",
       "      <td>\\nEXPERIENCE:3+ years\\nSKILLS:research,machine...</td>\n",
       "    </tr>\n",
       "    <tr>\n",
       "      <th>4</th>\n",
       "      <td>Currently enrolled in a full-time degree prog...</td>\n",
       "      <td>\\nDIPLOMA:Pursuing\\nDIPLOMA_MAJOR:Computer Sci...</td>\n",
       "    </tr>\n",
       "    <tr>\n",
       "      <th>5</th>\n",
       "      <td>MS in a quantitative field such as Operations...</td>\n",
       "      <td>\\nEXPERIENCE:7+ years,5+ years\\nSKILLS:MS in a...</td>\n",
       "    </tr>\n",
       "    <tr>\n",
       "      <th>6</th>\n",
       "      <td>Ph.D. with 5+ years of experience, MS with 7+...</td>\n",
       "      <td>\\nEXPERIENCE:5+ years,7+ years,10+ years\\nSKIL...</td>\n",
       "    </tr>\n",
       "    <tr>\n",
       "      <th>7</th>\n",
       "      <td>Graduating with a Ph.D. in Computer Science o...</td>\n",
       "      <td>\\nDIPLOMA:Ph.D.\\nDIPLOMA_MAJOR:Computer Scienc...</td>\n",
       "    </tr>\n",
       "    <tr>\n",
       "      <th>8</th>\n",
       "      <td>12+ years of research experience, in-house or...</td>\n",
       "      <td>\\nEXPERIENCE:12+ years\\nSKILLS:research,human-...</td>\n",
       "    </tr>\n",
       "    <tr>\n",
       "      <th>9</th>\n",
       "      <td>PhD with 3+ years, or MS with 5+ years of exp...</td>\n",
       "      <td>\\nDIPLOMA:PhD\\nDIPLOMA_MAJOR:Psychology\\nEXPER...</td>\n",
       "    </tr>\n",
       "    <tr>\n",
       "      <th>10</th>\n",
       "      <td>Currently holding a faculty, industry, or gov...</td>\n",
       "      <td>\\nEXPERIENCE:1+ year\\nSKILLS:research,AI,machi...</td>\n",
       "    </tr>\n",
       "  </tbody>\n",
       "</table>\n",
       "</div>"
      ],
      "text/plain": [
       "                                                 text  \\\n",
       "0    Currently holding a faculty, industry, or gov...   \n",
       "1    2+ years experience in the online advertising...   \n",
       "2    BA/BS 5+ years of program or project manageme...   \n",
       "3    Currently enrolled in a full-time degree prog...   \n",
       "4    Currently enrolled in a full-time degree prog...   \n",
       "5    MS in a quantitative field such as Operations...   \n",
       "6    Ph.D. with 5+ years of experience, MS with 7+...   \n",
       "7    Graduating with a Ph.D. in Computer Science o...   \n",
       "8    12+ years of research experience, in-house or...   \n",
       "9    PhD with 3+ years, or MS with 5+ years of exp...   \n",
       "10   Currently holding a faculty, industry, or gov...   \n",
       "\n",
       "                                       extracted_text  \n",
       "0   \\nDIPLOMA:Ph.D.\\nDIPLOMA_MAJOR:Computer Scienc...  \n",
       "1   \\nEXPERIENCE:2+ years\\nSKILLS:online advertisi...  \n",
       "2   \\nEXPERIENCE:5+ years,2+ years\\nSKILLS:program...  \n",
       "3   \\nEXPERIENCE:3+ years\\nSKILLS:research,machine...  \n",
       "4   \\nDIPLOMA:Pursuing\\nDIPLOMA_MAJOR:Computer Sci...  \n",
       "5   \\nEXPERIENCE:7+ years,5+ years\\nSKILLS:MS in a...  \n",
       "6   \\nEXPERIENCE:5+ years,7+ years,10+ years\\nSKIL...  \n",
       "7   \\nDIPLOMA:Ph.D.\\nDIPLOMA_MAJOR:Computer Scienc...  \n",
       "8   \\nEXPERIENCE:12+ years\\nSKILLS:research,human-...  \n",
       "9   \\nDIPLOMA:PhD\\nDIPLOMA_MAJOR:Psychology\\nEXPER...  \n",
       "10  \\nEXPERIENCE:1+ year\\nSKILLS:research,AI,machi...  "
      ]
     },
     "execution_count": 64,
     "metadata": {},
     "output_type": "execute_result"
    }
   ],
   "source": [
    "pd.DataFrame(data={'text': test_doc, 'extracted_text': results})"
   ]
  },
  {
   "cell_type": "code",
   "execution_count": 80,
   "metadata": {},
   "outputs": [],
   "source": [
    "def clean_extracted(x):\n",
    "    x = \"\".join(x)\n",
    "    x = x.lower()\n",
    "    x = x[:-3]\n",
    "    x = x.lstrip()\n",
    "    \n",
    "    x = x.split(\"\\n\")\n",
    "    x = \"\".join(x)\n",
    "    x = x.split(':')\n",
    "    x = \"\".join(x)\n",
    "    return x"
   ]
  },
  {
   "cell_type": "code",
   "execution_count": 81,
   "metadata": {},
   "outputs": [],
   "source": [
    "def clean_test(x):\n",
    "    x = \"\".join(x)\n",
    "    x = x.lower()\n",
    "    x = x.lstrip()\n",
    "    x = x.split(\"\\n\")\n",
    "    x = \"\".join(x)\n",
    "    x = x.split(':')\n",
    "    x = \"\".join(x)\n",
    "    return x"
   ]
  },
  {
   "cell_type": "code",
   "execution_count": 82,
   "metadata": {},
   "outputs": [],
   "source": [
    "from concurrent.futures import ThreadPoolExecutor\n",
    "\n",
    "extracted = []\n",
    "# Run the model to extract the entities\n",
    "with ThreadPoolExecutor(max_workers=8) as executor:\n",
    "    for i in executor.map(cohereMovieExtractor.extract, test_df['document'].apply(\n",
    "            lambda x: \"Job: \"+x.replace(\"\\n\", \" \")+'\\n\\nExtracted Text:').to_list()):\n",
    "        extracted.append(str(i).strip())"
   ]
  },
  {
   "cell_type": "code",
   "execution_count": 76,
   "metadata": {},
   "outputs": [
    {
     "name": "stdout",
     "output_type": "stream",
     "text": [
      "Classification accuracy 43.026703753879936%\n"
     ]
    }
   ],
   "source": [
    "# Save results\n",
    "test_df['extracted_text'] = extracted\n",
    "test_df['extracted_text'] = test_df['extracted_text'].apply(clean_extracted)\n",
    "test_df['label'] = test_df['label'].apply(clean_test)\n",
    "from difflib import SequenceMatcher\n",
    "score = []\n",
    "for i in range(test_df.shape[0]):\n",
    "    \n",
    "    score.append(SequenceMatcher(None,test_df['label'].iloc[i],\n",
    "                          test_df['extracted_text'].iloc[i]).ratio())\n",
    "# Compare the label to the extracted text\n",
    "test_df['similarity_score'] = pd.DataFrame(score)\n",
    "\n",
    "# Print the accuracy\n",
    "print(f'Classification accuracy {test_df[\"similarity_score\"].mean() *100}%')"
   ]
  },
  {
   "cell_type": "code",
   "execution_count": 86,
   "metadata": {},
   "outputs": [
    {
     "data": {
      "text/html": [
       "<div>\n",
       "<style scoped>\n",
       "    .dataframe tbody tr th:only-of-type {\n",
       "        vertical-align: middle;\n",
       "    }\n",
       "\n",
       "    .dataframe tbody tr th {\n",
       "        vertical-align: top;\n",
       "    }\n",
       "\n",
       "    .dataframe thead th {\n",
       "        text-align: right;\n",
       "    }\n",
       "</style>\n",
       "<table border=\"1\" class=\"dataframe\">\n",
       "  <thead>\n",
       "    <tr style=\"text-align: right;\">\n",
       "      <th></th>\n",
       "      <th>document</th>\n",
       "      <th>tokens</th>\n",
       "      <th>relations</th>\n",
       "      <th>label</th>\n",
       "      <th>extracted_text</th>\n",
       "      <th>similarity_score</th>\n",
       "      <th>correct</th>\n",
       "    </tr>\n",
       "  </thead>\n",
       "  <tbody>\n",
       "    <tr>\n",
       "      <th>6</th>\n",
       "      <td>\\nPh.D. with 5+ years of experience, MS with 7...</td>\n",
       "      <td>[]</td>\n",
       "      <td>[]</td>\n",
       "      <td></td>\n",
       "      <td>diplomaph.d.,ms,bsdiploma_majorphysics,electri...</td>\n",
       "      <td>0.0</td>\n",
       "      <td>0</td>\n",
       "    </tr>\n",
       "  </tbody>\n",
       "</table>\n",
       "</div>"
      ],
      "text/plain": [
       "                                            document tokens relations label  \\\n",
       "6  \\nPh.D. with 5+ years of experience, MS with 7...     []        []         \n",
       "\n",
       "                                      extracted_text  similarity_score  \\\n",
       "6  diplomaph.d.,ms,bsdiploma_majorphysics,electri...               0.0   \n",
       "\n",
       "   correct  \n",
       "6        0  "
      ]
     },
     "execution_count": 86,
     "metadata": {},
     "output_type": "execute_result"
    }
   ],
   "source": [
    "test_df[test_df['similarity_score']==0]"
   ]
  },
  {
   "cell_type": "code",
   "execution_count": null,
   "metadata": {},
   "outputs": [],
   "source": [
    "=============///==================="
   ]
  }
 ],
 "metadata": {
  "kernelspec": {
   "display_name": "Python 3 (ipykernel)",
   "language": "python",
   "name": "python3"
  },
  "language_info": {
   "codemirror_mode": {
    "name": "ipython",
    "version": 3
   },
   "file_extension": ".py",
   "mimetype": "text/x-python",
   "name": "python",
   "nbconvert_exporter": "python",
   "pygments_lexer": "ipython3",
   "version": "3.8.13"
  },
  "vscode": {
   "interpreter": {
    "hash": "beb26789953ddcd0d4fafde83f340bee23aa0884c59e24dddb82f7574d20d741"
   }
  }
 },
 "nbformat": 4,
 "nbformat_minor": 2
}
