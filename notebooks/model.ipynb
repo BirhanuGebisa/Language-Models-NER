{
 "cells": [
  {
   "cell_type": "code",
   "execution_count": 1,
   "metadata": {},
   "outputs": [],
   "source": [
    "import sys\n",
    "import os\n",
    "\n",
    "import cohere"
   ]
  },
  {
   "cell_type": "code",
   "execution_count": 2,
   "metadata": {},
   "outputs": [],
   "source": [
    "sys.path.append(os.path.abspath(os.path.join(\"..\")))\n",
    "import config\n",
    "\n",
    "api_key = config.cohere_api[\"api_key\"]"
   ]
  },
  {
   "cell_type": "code",
   "execution_count": null,
   "metadata": {},
   "outputs": [],
   "source": [
    "co = cohere.Client(api_key)\n",
    "prediction = co.generate(\n",
    "    # model=\"large\",\n",
    "    model=\"******fine_tuned_model******\",\n",
    "    prompt= \"Due it being late, we regret to inform you that our resturant\\n\",\n",
    "    max_tokens=50,\n",
    "    temperature=0.75,\n",
    "    k=0,\n",
    "    p=0.75,\n",
    "    stop_sequences=[]\n",
    ")\n",
    "\n",
    "print(prediction.generations[0].text)"
   ]
  },
  {
   "cell_type": "code",
   "execution_count": null,
   "metadata": {},
   "outputs": [],
   "source": []
  }
 ],
 "metadata": {
  "kernelspec": {
   "display_name": "Python 3.7.0 ('base')",
   "language": "python",
   "name": "python3"
  },
  "language_info": {
   "codemirror_mode": {
    "name": "ipython",
    "version": 3
   },
   "file_extension": ".py",
   "mimetype": "text/x-python",
   "name": "python",
   "nbconvert_exporter": "python",
   "pygments_lexer": "ipython3",
   "version": "3.7.0"
  },
  "orig_nbformat": 4,
  "vscode": {
   "interpreter": {
    "hash": "1c1d84affd04ea94635ae004ab92d8f7c59753998561fcf20a79a729cfcfa1a8"
   }
  }
 },
 "nbformat": 4,
 "nbformat_minor": 2
}
