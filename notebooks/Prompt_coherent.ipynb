{
 "cells": [
  {
   "cell_type": "markdown",
   "metadata": {},
   "source": [
    "#### IMPORT MODULES"
   ]
  },
  {
   "cell_type": "code",
   "execution_count": null,
   "metadata": {},
   "outputs": [],
   "source": [
    "import cohere\n",
    "import pandas as pd\n",
    "import requests\n",
    "import datetime\n",
    "from tqdm import tqdm\n",
    "pd.set_option('display.max_colwidth', None)\n",
    "\n",
    "def get_post_titles(**kwargs):\n",
    "    \"\"\" Gets data from the pushshift api. Read more: https://github.com/pushshift/api \"\"\"\n",
    "    base_url = f\"https://api.pushshift.io/reddit/search/submission/\"\n",
    "    payload = kwargs\n",
    "    request = requests.get(base_url, params=payload)\n",
    "    return [a['title'] for a in request.json()['data']]"
   ]
  },
  {
   "cell_type": "code",
   "execution_count": null,
   "metadata": {},
   "outputs": [],
   "source": [
    "# Paste your API key here. Remember to not share publicly\n",
    "api_key = 'WrY00vdDGucL0sRD1DwX7TM1IPydwFEeVLhnwx37'\n",
    "\n",
    "# Create and retrieve a Cohere API key from os.cohere.ai\n",
    "co = cohere.Client(api_key)"
   ]
  },
  {
   "cell_type": "code",
   "execution_count": null,
   "metadata": {},
   "outputs": [],
   "source": [
    "movie_examples = [\n",
    "(\"Deadpool 2\", \"Deadpool 2 | Official HD Deadpool's \\\"Wet on Wet\\\" Teaser | 2018\"),\n",
    "(\"none\", \"Jordan Peele Just Became the First Black Writer-Director With a $100M Movie Debut\"),\n",
    "(\"Joker\", \"Joker Officially Rated “R”\"),\n",
    "(\"Free Guy\", \"Ryan Reynolds’ 'Free Guy' Receives July 3, 2020 Release Date - About a bank teller stuck in his routine that discovers he’s an NPC character in brutal open world game.\"),\n",
    "(\"none\", \"James Cameron congratulates Kevin Feige and Marvel!\"),\n",
    "(\"Guardians of the Galaxy\", \"The Cast of Guardians of the Galaxy release statement on James Gunn\"),\n",
    "]"
   ]
  },
  {
   "cell_type": "code",
   "execution_count": null,
   "metadata": {},
   "outputs": [],
   "source": [
    "#@title Create the prompt (Run this cell to execute required code) {display-mode: \"form\"}\n",
    "\n",
    "class cohereExtractor():\n",
    "    def __init__(self, examples, example_labels, labels, task_desciption, example_prompt):\n",
    "        self.examples = examples\n",
    "        self.example_labels = example_labels\n",
    "        self.labels = labels\n",
    "        self.task_desciption = task_desciption\n",
    "        self.example_prompt = example_prompt\n",
    "\n",
    "    def make_prompt(self, example):\n",
    "        examples = self.examples + [example]\n",
    "        labels = self.example_labels + [\"\"]\n",
    "        return (self.task_desciption +\n",
    "                \"\\n---\\n\".join( [examples[i] + \"\\n\" +\n",
    "                                self.example_prompt + \n",
    "                                 labels[i] for i in range(len(examples))]))\n",
    "\n",
    "    def extract(self, example):\n",
    "      extraction = co.generate(\n",
    "          model='large',\n",
    "          prompt=self.make_prompt(example),\n",
    "          max_tokens=10,\n",
    "          temperature=0.1,\n",
    "          stop_sequences=[\"\\n\"])\n",
    "      return(extraction.generations[0].text[:-1])\n",
    "\n",
    "\n",
    "cohereMovieExtractor = cohereExtractor([e[1] for e in movie_examples], \n",
    "                                       [e[0] for e in movie_examples], [],\n",
    "                                       \"\", \n",
    "                                       \"extract the movie title from the post:\")\n"
   ]
  },
  {
   "cell_type": "code",
   "execution_count": null,
   "metadata": {},
   "outputs": [],
   "source": [
    "# This is what the prompt looks like:\n",
    "print(cohereMovieExtractor.make_prompt('<input text here>'))"
   ]
  },
  {
   "cell_type": "code",
   "execution_count": null,
   "metadata": {},
   "outputs": [],
   "source": [
    "num_posts = 10\n",
    "\n",
    "movies_list = get_post_titles(size=num_posts, \n",
    "      after=str(int(datetime.datetime(2021,1,1,0,0).timestamp())), \n",
    "      before=str(int(datetime.datetime(2022,1,1,0,0).timestamp())), \n",
    "      subreddit=\"movies\", \n",
    "      sort_type=\"score\", \n",
    "      sort=\"desc\")\n",
    "\n",
    "# Show the list\n",
    "movies_list"
   ]
  },
  {
   "cell_type": "code",
   "execution_count": null,
   "metadata": {},
   "outputs": [],
   "source": [
    "results = []\n",
    "for text in tqdm(movies_list):\n",
    "    try:\n",
    "        extracted_text = cohereMovieExtractor.extract(text)\n",
    "        results.append(extracted_text)\n",
    "    except Exception as e:\n",
    "        print('ERROR: ', e)"
   ]
  },
  {
   "cell_type": "code",
   "execution_count": null,
   "metadata": {},
   "outputs": [],
   "source": [
    "pd.DataFrame(data={'text': movies_list, 'extracted_text': results})"
   ]
  },
  {
   "cell_type": "code",
   "execution_count": null,
   "metadata": {},
   "outputs": [],
   "source": [
    "test_df = pd.read_csv('data/Expamle.csv',index_col=0)\n",
    "test_df"
   ]
  },
  {
   "cell_type": "code",
   "execution_count": null,
   "metadata": {},
   "outputs": [],
   "source": [
    "from concurrent.futures import ThreadPoolExecutor\n",
    "\n",
    "extracted = []\n",
    "# Run the model to extract the entities\n",
    "with ThreadPoolExecutor(max_workers=8) as executor:\n",
    "    for i in executor.map(cohereMovieExtractor.extract, test_df['text']):\n",
    "        extracted.append(str(i).strip())\n",
    "# Save results\n",
    "test_df['extracted_text'] = extracted"
   ]
  },
  {
   "cell_type": "code",
   "execution_count": null,
   "metadata": {},
   "outputs": [],
   "source": [
    "# Compare the label to the extracted text\n",
    "test_df['correct'] = (test_df['label'].str.lower() == test_df['extracted_text'].str.lower()).astype(int)\n",
    "\n",
    "# Print the accuracy\n",
    "print(f'Classification accuracy {test_df[\"correct\"].mean() *100}%')"
   ]
  },
  {
   "cell_type": "code",
   "execution_count": null,
   "metadata": {},
   "outputs": [],
   "source": [
    "test_df[test_df['correct']==0]"
   ]
  },
  {
   "cell_type": "code",
   "execution_count": null,
   "metadata": {},
   "outputs": [],
   "source": [
    "from sklearn.metrics import classification_report\n",
    "import warnings\n",
    "warnings.filterwarnings('ignore')\n",
    "\n",
    "print(classification_report(test_df['label'].str.lower(), test_df['extracted_text'].str.lower()))"
   ]
  },
  {
   "cell_type": "code",
   "execution_count": null,
   "metadata": {},
   "outputs": [],
   "source": [
    "=============///==================="
   ]
  }
 ],
 "metadata": {
  "kernelspec": {
   "display_name": "Python 3.7.13",
   "language": "python",
   "name": "python3"
  },
  "language_info": {
   "codemirror_mode": {
    "name": "ipython",
    "version": 3
   },
   "file_extension": ".py",
   "mimetype": "text/x-python",
   "name": "python",
   "nbconvert_exporter": "python",
   "pygments_lexer": "ipython3",
   "version": "3.7.13"
  },
  "orig_nbformat": 4,
  "vscode": {
   "interpreter": {
    "hash": "dd646d6842ff9d21f84e606d47a9ebb02870856742dd9d79e46bd83ea33a70a3"
   }
  }
 },
 "nbformat": 4,
 "nbformat_minor": 2
}
